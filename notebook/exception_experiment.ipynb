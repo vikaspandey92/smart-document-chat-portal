{
 "cells": [
  {
   "cell_type": "markdown",
   "id": "cab8b0b1",
   "metadata": {},
   "source": [
    "## Exception handling"
   ]
  },
  {
   "cell_type": "code",
   "execution_count": 1,
   "id": "254beed7",
   "metadata": {},
   "outputs": [],
   "source": [
    "import os\n",
    "import traceback"
   ]
  },
  {
   "cell_type": "code",
   "execution_count": null,
   "id": "0947ea75",
   "metadata": {},
   "outputs": [],
   "source": [
    "class DocumentPortalException(Exception):\n",
    "    "
   ]
  }
 ],
 "metadata": {
  "kernelspec": {
   "display_name": "smart-document-chat-portal",
   "language": "python",
   "name": "python3"
  },
  "language_info": {
   "codemirror_mode": {
    "name": "ipython",
    "version": 3
   },
   "file_extension": ".py",
   "mimetype": "text/x-python",
   "name": "python",
   "nbconvert_exporter": "python",
   "pygments_lexer": "ipython3",
   "version": "3.10.5"
  }
 },
 "nbformat": 4,
 "nbformat_minor": 5
}
